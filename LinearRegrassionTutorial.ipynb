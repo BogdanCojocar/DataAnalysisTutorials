{
 "cells": [
  {
   "cell_type": "code",
   "execution_count": 2,
   "metadata": {
    "collapsed": false
   },
   "outputs": [],
   "source": [
    "% matplotlib inline"
   ]
  },
  {
   "cell_type": "code",
   "execution_count": 111,
   "metadata": {
    "collapsed": false
   },
   "outputs": [],
   "source": [
    "#imports\n",
    "\n",
    "import numpy as np\n",
    "from sklearn import linear_model\n",
    "import pandas as pd\n",
    "import matplotlib.pyplot as plt\n",
    "import seaborn as sns\n",
    "import Quandl\n"
   ]
  },
  {
   "cell_type": "code",
   "execution_count": 86,
   "metadata": {
    "collapsed": false
   },
   "outputs": [
    {
     "name": "stdout",
     "output_type": "stream",
     "text": [
      "\n",
      "First 5 values from the data:\n",
      "            Total\n",
      "Year             \n",
      "1995-12-31    146\n",
      "1996-12-31    184\n",
      "1997-12-31    237\n",
      "1998-12-31    204\n",
      "1999-12-31    226\n",
      "\n",
      "Last 10 values from the data:\n",
      "            Total\n",
      "Year             \n",
      "2006-12-31    137\n",
      "2007-12-31    153\n",
      "2008-12-31    124\n",
      "2009-12-31    139\n",
      "2010-12-31    128\n",
      "2011-12-31    155\n",
      "2012-12-31    183\n",
      "2013-12-31    149\n",
      "2014-12-31    143\n",
      "2015-12-31     31\n",
      "\n",
      "Values from index 10 to index 14:\n",
      "            Total\n",
      "Year             \n",
      "2005-12-31    205\n",
      "2006-12-31    137\n",
      "2007-12-31    153\n",
      "2008-12-31    124\n",
      "2009-12-31    139\n"
     ]
    }
   ],
   "source": [
    "data = Quandl.get(\"FAA/UNRULY\")\n",
    "\n",
    "print(\"\\nFirst 5 values from the data:\")\n",
    "print(data.head())\n",
    "\n",
    "print(\"\\nLast 10 values from the data:\")\n",
    "print(data.tail(10))\n",
    "\n",
    "print(\"\\nValues from index 10 to index 14:\")\n",
    "print(data[10:15])"
   ]
  },
  {
   "cell_type": "code",
   "execution_count": 58,
   "metadata": {
    "collapsed": false
   },
   "outputs": [
    {
     "name": "stdout",
     "output_type": "stream",
     "text": [
      "\n",
      "First 5 values from the data:\n",
      "            Total\n",
      "Year             \n",
      "1995-12-31    146\n",
      "1996-12-31    184\n",
      "1997-12-31    237\n",
      "1998-12-31    204\n",
      "1999-12-31    226\n",
      "\n",
      "Last 10 values from the data:\n",
      "            Total\n",
      "Year             \n",
      "2006-12-31    137\n",
      "2007-12-31    153\n",
      "2008-12-31    124\n",
      "2009-12-31    139\n",
      "2010-12-31    128\n",
      "2011-12-31    155\n",
      "2012-12-31    183\n",
      "2013-12-31    149\n",
      "2014-12-31    143\n",
      "2015-12-31     31\n",
      "\n",
      "Statistics:\n",
      "            Total\n",
      "count   21.000000\n",
      "mean   189.476190\n",
      "std     70.817808\n",
      "min     31.000000\n",
      "25%    143.000000\n",
      "50%    183.000000\n",
      "75%    237.000000\n",
      "max    310.000000\n",
      "\n",
      "Info about the dataset:\n",
      "<class 'pandas.core.frame.DataFrame'>\n",
      "DatetimeIndex: 21 entries, 1995-12-31 to 2015-12-31\n",
      "Data columns (total 1 columns):\n",
      "Total    21 non-null float64\n",
      "dtypes: float64(1)\n",
      "memory usage: 336.0 bytes\n",
      "\n",
      "Type of each column:\n"
     ]
    },
    {
     "data": {
      "text/plain": [
       "Total    float64\n",
       "dtype: object"
      ]
     },
     "execution_count": 58,
     "metadata": {},
     "output_type": "execute_result"
    }
   ],
   "source": [
    "print(\"\\nStatistics:\")\n",
    "print(data.describe())\n",
    "\n",
    "print(\"\\nInfo about the dataset:\")\n",
    "data.info()\n",
    "\n",
    "print(\"\\nType of each column:\")\n",
    "data.dtypes"
   ]
  },
  {
   "cell_type": "code",
   "execution_count": 55,
   "metadata": {
    "collapsed": false
   },
   "outputs": [
    {
     "data": {
      "text/plain": [
       "<matplotlib.axes._subplots.AxesSubplot at 0xd0493c8>"
      ]
     },
     "execution_count": 55,
     "metadata": {},
     "output_type": "execute_result"
    },
    {
     "data": {
      "image/png": "[encoded data removed]",
      "text/plain": [
       "<matplotlib.figure.Figure at 0xd04f0b8>"
      ]
     },
     "metadata": {},
     "output_type": "display_data"
    }
   ],
   "source": [
    "data.plot()\n"
   ]
  },
  {
   "cell_type": "code",
   "execution_count": 47,
   "metadata": {
    "collapsed": false
   },
   "outputs": [
    {
     "data": {
      "text/plain": [
       "(array([ 1.,  0.,  0.,  4.,  5.,  2.,  3.,  1.,  2.,  3.]),\n",
       " array([  31. ,   58.9,   86.8,  114.7,  142.6,  170.5,  198.4,  226.3,\n",
       "         254.2,  282.1,  310. ]),\n",
       " <a list of 10 Patch objects>)"
      ]
     },
     "execution_count": 47,
     "metadata": {},
     "output_type": "execute_result"
    },
    {
     "data": {
      "image/png": "[encoded data removed]",
      "text/plain": [
       "<matplotlib.figure.Figure at 0xb5887f0>"
      ]
     },
     "metadata": {},
     "output_type": "display_data"
    }
   ],
   "source": [
    "plt.hist(data[\"Total\"])\n"
   ]
  },
  {
   "cell_type": "code",
   "execution_count": 66,
   "metadata": {
    "collapsed": false
   },
   "outputs": [
    {
     "data": {
      "text/plain": [
       "Total    20\n",
       "dtype: int64"
      ]
     },
     "execution_count": 66,
     "metadata": {},
     "output_type": "execute_result"
    }
   ],
   "source": [
    "# filter some data\n",
    "\n",
    "fd = data[data.Total > 100]\n",
    "\n",
    "fd.count()"
   ]
  },
  {
   "cell_type": "code",
   "execution_count": 143,
   "metadata": {
    "collapsed": false
   },
   "outputs": [
    {
     "name": "stdout",
     "output_type": "stream",
     "text": [
      "[[ 286.]\n",
      " [ 184.]\n",
      " [ 205.]\n",
      " [ 255.]\n",
      " [ 124.]\n",
      " [ 155.]\n",
      " [ 143.]\n",
      " [ 305.]\n",
      " [ 146.]\n",
      " [ 183.]\n",
      " [ 128.]\n",
      " [ 153.]\n",
      " [ 137.]\n",
      " [ 237.]\n",
      " [ 139.]]\n",
      "\n",
      "\n",
      "[[1072828800000000000]\n",
      " [ 851990400000000000]\n",
      " [1135987200000000000]\n",
      " [ 978220800000000000]\n",
      " [1230681600000000000]\n",
      " [1325289600000000000]\n",
      " [1419984000000000000]\n",
      " [1009756800000000000]\n",
      " [ 820368000000000000]\n",
      " [1356912000000000000]\n",
      " [1293753600000000000]\n",
      " [1199059200000000000]\n",
      " [1167523200000000000]\n",
      " [ 883526400000000000]\n",
      " [1262217600000000000]]\n"
     ]
    },
    {
     "name": "stderr",
     "output_type": "stream",
     "text": [
      "D:\\Programming\\anaconda3\\lib\\site-packages\\sklearn\\base.py:175: DeprecationWarning: inspect.getargspec() is deprecated, use inspect.signature() instead\n",
      "  args, varargs, kw, default = inspect.getargspec(init)\n"
     ]
    },
    {
     "data": {
      "text/plain": [
       "LinearRegression(copy_X=True, fit_intercept=True, n_jobs=1, normalize=False)"
      ]
     },
     "execution_count": 143,
     "metadata": {},
     "output_type": "execute_result"
    }
   ],
   "source": [
    "# apply linear regrassion\n",
    "\n",
    "reg = linear_model.LinearRegression()\n",
    "\n",
    "# split data\n",
    "fd = fd.iloc[np.random.permutation(len(fd))]\n",
    "test = fd[:5]\n",
    "train = fd[5:]\n",
    "\n",
    "# convert to numpy to use with sklearn\n",
    "xVals = train.Total.values\n",
    "yVals = pd.to_numeric(train.index.values)\n",
    "\n",
    "# change shape\n",
    "x_train = xVals.reshape(15, 1)\n",
    "y_train = yVals.reshape(15, 1)\n",
    "\n",
    "# trainig data\n",
    "print(x_train)\n",
    "print(\"\\n\")\n",
    "print(y_train)\n",
    "\n",
    "# train\n",
    "reg.fit(x_train, y_train)"
   ]
  },
  {
   "cell_type": "code",
   "execution_count": 144,
   "metadata": {
    "collapsed": false
   },
   "outputs": [
    {
     "name": "stdout",
     "output_type": "stream",
     "text": [
      "[[ 226.]\n",
      " [ 310.]\n",
      " [ 204.]\n",
      " [ 149.]\n",
      " [ 279.]]\n",
      "\n",
      "\n",
      "[[ 946598400000000000]\n",
      " [1104451200000000000]\n",
      " [ 915062400000000000]\n",
      " [1388448000000000000]\n",
      " [1041292800000000000]]\n"
     ]
    },
    {
     "data": {
      "text/plain": [
       "0.15622557563649886"
      ]
     },
     "execution_count": 144,
     "metadata": {},
     "output_type": "execute_result"
    }
   ],
   "source": [
    "xVals_test = test.Total.values\n",
    "yVals_test = pd.to_numeric(test.index.values)\n",
    "x_test = xVals_test.reshape(5, 1)\n",
    "y_test = yVals_test.reshape(5, 1)\n",
    "\n",
    "# test data\n",
    "print(x_test)\n",
    "print(\"\\n\")\n",
    "print(y_test)\n",
    "\n",
    "# test\n",
    "reg.score(x_test, y_test)"
   ]
  },
  {
   "cell_type": "code",
   "execution_count": 148,
   "metadata": {
    "collapsed": false
   },
   "outputs": [
    {
     "data": {
      "text/plain": [
       "[<matplotlib.lines.Line2D at 0xcd9ed68>]"
      ]
     },
     "execution_count": 148,
     "metadata": {},
     "output_type": "execute_result"
    },
    {
     "name": "stderr",
     "output_type": "stream",
     "text": [
      "D:\\Programming\\anaconda3\\lib\\site-packages\\matplotlib\\collections.py:590: FutureWarning: elementwise comparison failed; returning scalar instead, but in the future will perform elementwise comparison\n",
      "  self.set_edgecolor(c)\n"
     ]
    },
    {
     "data": {
      "image/png": "[encoded data removed]",
      "text/plain": [
       "<matplotlib.figure.Figure at 0xcd9ef98>"
      ]
     },
     "metadata": {},
     "output_type": "display_data"
    }
   ],
   "source": [
    "plt.scatter(x_test, y_test,  color='black')\n",
    "plt.plot(x_test, reg.predict(x_test), color='blue', linewidth=3)\n"
   ]
  }
 ],
 "metadata": {
  "kernelspec": {
   "display_name": "Python 3",
   "language": "python",
   "name": "python3"
  },
  "language_info": {
   "codemirror_mode": {
    "name": "ipython",
    "version": 3
   },
   "file_extension": ".py",
   "mimetype": "text/x-python",
   "name": "python",
   "nbconvert_exporter": "python",
   "pygments_lexer": "ipython3",
   "version": "3.5.0"
  }
 },
 "nbformat": 4,
 "nbformat_minor": 0
}
